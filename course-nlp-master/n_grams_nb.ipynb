{
 "cells": [
  {
   "cell_type": "code",
   "execution_count": 1,
   "metadata": {
    "scrolled": true
   },
   "outputs": [],
   "source": [
    "%reload_ext autoreload\n",
    "%autoreload 2\n",
    "%matplotlib inline"
   ]
  },
  {
   "cell_type": "code",
   "execution_count": 2,
   "metadata": {},
   "outputs": [],
   "source": [
    "from fastai import *\n",
    "from fastai.text import *\n",
    "from fastai.vision import *"
   ]
  },
  {
   "cell_type": "code",
   "execution_count": 3,
   "metadata": {},
   "outputs": [],
   "source": [
    "import sklearn.feature_extraction.text as sklearn_text"
   ]
  },
  {
   "cell_type": "code",
   "execution_count": 4,
   "metadata": {},
   "outputs": [
    {
     "data": {
      "text/plain": [
       "\u001b[0;31mInit signature:\u001b[0m  \u001b[0mURLs\u001b[0m\u001b[0;34m(\u001b[0m\u001b[0;34m)\u001b[0m\u001b[0;34m\u001b[0m\u001b[0;34m\u001b[0m\u001b[0m\n",
       "\u001b[0;31mSource:\u001b[0m        \n",
       "\u001b[0;32mclass\u001b[0m \u001b[0mURLs\u001b[0m\u001b[0;34m(\u001b[0m\u001b[0;34m)\u001b[0m\u001b[0;34m:\u001b[0m\u001b[0;34m\u001b[0m\n",
       "\u001b[0;34m\u001b[0m    \u001b[0;34m\"Global constants for dataset and model URLs.\"\u001b[0m\u001b[0;34m\u001b[0m\n",
       "\u001b[0;34m\u001b[0m    \u001b[0mLOCAL_PATH\u001b[0m \u001b[0;34m=\u001b[0m \u001b[0mPath\u001b[0m\u001b[0;34m.\u001b[0m\u001b[0mcwd\u001b[0m\u001b[0;34m(\u001b[0m\u001b[0;34m)\u001b[0m\u001b[0;34m\u001b[0m\n",
       "\u001b[0;34m\u001b[0m    \u001b[0mS3\u001b[0m \u001b[0;34m=\u001b[0m \u001b[0;34m'https://s3.amazonaws.com/fast-ai-'\u001b[0m\u001b[0;34m\u001b[0m\n",
       "\u001b[0;34m\u001b[0m\u001b[0;34m\u001b[0m\n",
       "\u001b[0;34m\u001b[0m    \u001b[0mS3_IMAGE\u001b[0m    \u001b[0;34m=\u001b[0m \u001b[0;34mf'{S3}imageclas/'\u001b[0m\u001b[0;34m\u001b[0m\n",
       "\u001b[0;34m\u001b[0m    \u001b[0mS3_IMAGELOC\u001b[0m \u001b[0;34m=\u001b[0m \u001b[0;34mf'{S3}imagelocal/'\u001b[0m\u001b[0;34m\u001b[0m\n",
       "\u001b[0;34m\u001b[0m    \u001b[0mS3_NLP\u001b[0m      \u001b[0;34m=\u001b[0m \u001b[0;34mf'{S3}nlp/'\u001b[0m\u001b[0;34m\u001b[0m\n",
       "\u001b[0;34m\u001b[0m    \u001b[0mS3_COCO\u001b[0m     \u001b[0;34m=\u001b[0m \u001b[0;34mf'{S3}coco/'\u001b[0m\u001b[0;34m\u001b[0m\n",
       "\u001b[0;34m\u001b[0m    \u001b[0mS3_MODEL\u001b[0m    \u001b[0;34m=\u001b[0m \u001b[0;34mf'{S3}modelzoo/'\u001b[0m\u001b[0;34m\u001b[0m\n",
       "\u001b[0;34m\u001b[0m\u001b[0;34m\u001b[0m\n",
       "\u001b[0;34m\u001b[0m    \u001b[0;31m# main datasets\u001b[0m\u001b[0;34m\u001b[0m\n",
       "\u001b[0;34m\u001b[0m    \u001b[0mADULT_SAMPLE\u001b[0m        \u001b[0;34m=\u001b[0m \u001b[0;34mf'{URL}adult_sample'\u001b[0m\u001b[0;34m\u001b[0m\n",
       "\u001b[0;34m\u001b[0m    \u001b[0mBIWI_SAMPLE\u001b[0m         \u001b[0;34m=\u001b[0m \u001b[0;34mf'{URL}biwi_sample'\u001b[0m\u001b[0;34m\u001b[0m\n",
       "\u001b[0;34m\u001b[0m    \u001b[0mCIFAR\u001b[0m               \u001b[0;34m=\u001b[0m \u001b[0;34mf'{URL}cifar10'\u001b[0m\u001b[0;34m\u001b[0m\n",
       "\u001b[0;34m\u001b[0m    \u001b[0mCOCO_SAMPLE\u001b[0m         \u001b[0;34m=\u001b[0m \u001b[0;34mf'{S3_COCO}coco_sample'\u001b[0m\u001b[0;34m\u001b[0m\n",
       "\u001b[0;34m\u001b[0m    \u001b[0mCOCO_TINY\u001b[0m           \u001b[0;34m=\u001b[0m \u001b[0;34mf'{URL}coco_tiny'\u001b[0m\u001b[0;34m\u001b[0m\n",
       "\u001b[0;34m\u001b[0m    \u001b[0mHUMAN_NUMBERS\u001b[0m       \u001b[0;34m=\u001b[0m \u001b[0;34mf'{URL}human_numbers'\u001b[0m\u001b[0;34m\u001b[0m\n",
       "\u001b[0;34m\u001b[0m    \u001b[0mIMDB\u001b[0m                \u001b[0;34m=\u001b[0m \u001b[0;34mf'{S3_NLP}imdb'\u001b[0m\u001b[0;34m\u001b[0m\n",
       "\u001b[0;34m\u001b[0m    \u001b[0mIMDB_SAMPLE\u001b[0m         \u001b[0;34m=\u001b[0m \u001b[0;34mf'{URL}imdb_sample'\u001b[0m\u001b[0;34m\u001b[0m\n",
       "\u001b[0;34m\u001b[0m    \u001b[0mML_SAMPLE\u001b[0m           \u001b[0;34m=\u001b[0m \u001b[0;34mf'{URL}movie_lens_sample'\u001b[0m\u001b[0;34m\u001b[0m\n",
       "\u001b[0;34m\u001b[0m    \u001b[0mMNIST_SAMPLE\u001b[0m        \u001b[0;34m=\u001b[0m \u001b[0;34mf'{URL}mnist_sample'\u001b[0m\u001b[0;34m\u001b[0m\n",
       "\u001b[0;34m\u001b[0m    \u001b[0mMNIST_TINY\u001b[0m          \u001b[0;34m=\u001b[0m \u001b[0;34mf'{URL}mnist_tiny'\u001b[0m\u001b[0;34m\u001b[0m\n",
       "\u001b[0;34m\u001b[0m    \u001b[0mMNIST_VAR_SIZE_TINY\u001b[0m \u001b[0;34m=\u001b[0m \u001b[0;34mf'{S3_IMAGE}mnist_var_size_tiny'\u001b[0m\u001b[0;34m\u001b[0m\n",
       "\u001b[0;34m\u001b[0m    \u001b[0mPLANET_SAMPLE\u001b[0m       \u001b[0;34m=\u001b[0m \u001b[0;34mf'{URL}planet_sample'\u001b[0m\u001b[0;34m\u001b[0m\n",
       "\u001b[0;34m\u001b[0m    \u001b[0mPLANET_TINY\u001b[0m         \u001b[0;34m=\u001b[0m \u001b[0;34mf'{URL}planet_tiny'\u001b[0m\u001b[0;34m\u001b[0m\n",
       "\u001b[0;34m\u001b[0m    \u001b[0mIMAGENETTE\u001b[0m          \u001b[0;34m=\u001b[0m \u001b[0;34mf'{S3_IMAGE}imagenette'\u001b[0m\u001b[0;34m\u001b[0m\n",
       "\u001b[0;34m\u001b[0m    \u001b[0mIMAGENETTE_160\u001b[0m      \u001b[0;34m=\u001b[0m \u001b[0;34mf'{S3_IMAGE}imagenette-160'\u001b[0m\u001b[0;34m\u001b[0m\n",
       "\u001b[0;34m\u001b[0m    \u001b[0mIMAGENETTE_320\u001b[0m      \u001b[0;34m=\u001b[0m \u001b[0;34mf'{S3_IMAGE}imagenette-320'\u001b[0m\u001b[0;34m\u001b[0m\n",
       "\u001b[0;34m\u001b[0m    \u001b[0mIMAGEWOOF\u001b[0m           \u001b[0;34m=\u001b[0m \u001b[0;34mf'{S3_IMAGE}imagewoof'\u001b[0m\u001b[0;34m\u001b[0m\n",
       "\u001b[0;34m\u001b[0m    \u001b[0mIMAGEWOOF_160\u001b[0m       \u001b[0;34m=\u001b[0m \u001b[0;34mf'{S3_IMAGE}imagewoof-160'\u001b[0m\u001b[0;34m\u001b[0m\n",
       "\u001b[0;34m\u001b[0m    \u001b[0mIMAGEWOOF_320\u001b[0m       \u001b[0;34m=\u001b[0m \u001b[0;34mf'{S3_IMAGE}imagewoof-320'\u001b[0m\u001b[0;34m\u001b[0m\n",
       "\u001b[0;34m\u001b[0m\u001b[0;34m\u001b[0m\n",
       "\u001b[0;34m\u001b[0m    \u001b[0;31m# kaggle competitions download dogs-vs-cats -p {DOGS.absolute()}\u001b[0m\u001b[0;34m\u001b[0m\n",
       "\u001b[0;34m\u001b[0m    \u001b[0mDOGS\u001b[0m \u001b[0;34m=\u001b[0m \u001b[0;34mf'{URL}dogscats'\u001b[0m\u001b[0;34m\u001b[0m\n",
       "\u001b[0;34m\u001b[0m\u001b[0;34m\u001b[0m\n",
       "\u001b[0;34m\u001b[0m    \u001b[0;31m# image classification datasets\u001b[0m\u001b[0;34m\u001b[0m\n",
       "\u001b[0;34m\u001b[0m    \u001b[0mCALTECH_101\u001b[0m  \u001b[0;34m=\u001b[0m \u001b[0;34mf'{S3_IMAGE}caltech_101'\u001b[0m\u001b[0;34m\u001b[0m\n",
       "\u001b[0;34m\u001b[0m    \u001b[0mCARS\u001b[0m         \u001b[0;34m=\u001b[0m \u001b[0;34mf'{S3_IMAGE}stanford-cars'\u001b[0m\u001b[0;34m\u001b[0m\n",
       "\u001b[0;34m\u001b[0m    \u001b[0mCIFAR_100\u001b[0m    \u001b[0;34m=\u001b[0m \u001b[0;34mf'{S3_IMAGE}cifar100'\u001b[0m\u001b[0;34m\u001b[0m\n",
       "\u001b[0;34m\u001b[0m    \u001b[0mCUB_200_2011\u001b[0m \u001b[0;34m=\u001b[0m \u001b[0;34mf'{S3_IMAGE}CUB_200_2011'\u001b[0m\u001b[0;34m\u001b[0m\n",
       "\u001b[0;34m\u001b[0m    \u001b[0mFLOWERS\u001b[0m      \u001b[0;34m=\u001b[0m \u001b[0;34mf'{S3_IMAGE}oxford-102-flowers'\u001b[0m\u001b[0;34m\u001b[0m\n",
       "\u001b[0;34m\u001b[0m    \u001b[0mFOOD\u001b[0m         \u001b[0;34m=\u001b[0m \u001b[0;34mf'{S3_IMAGE}food-101'\u001b[0m\u001b[0;34m\u001b[0m\n",
       "\u001b[0;34m\u001b[0m    \u001b[0mMNIST\u001b[0m        \u001b[0;34m=\u001b[0m \u001b[0;34mf'{S3_IMAGE}mnist_png'\u001b[0m\u001b[0;34m\u001b[0m\n",
       "\u001b[0;34m\u001b[0m    \u001b[0mPETS\u001b[0m         \u001b[0;34m=\u001b[0m \u001b[0;34mf'{S3_IMAGE}oxford-iiit-pet'\u001b[0m\u001b[0;34m\u001b[0m\n",
       "\u001b[0;34m\u001b[0m\u001b[0;34m\u001b[0m\n",
       "\u001b[0;34m\u001b[0m    \u001b[0;31m# NLP datasets\u001b[0m\u001b[0;34m\u001b[0m\n",
       "\u001b[0;34m\u001b[0m    \u001b[0mAG_NEWS\u001b[0m                 \u001b[0;34m=\u001b[0m \u001b[0;34mf'{S3_NLP}ag_news_csv'\u001b[0m\u001b[0;34m\u001b[0m\n",
       "\u001b[0;34m\u001b[0m    \u001b[0mAMAZON_REVIEWS\u001b[0m          \u001b[0;34m=\u001b[0m \u001b[0;34mf'{S3_NLP}amazon_review_full_csv'\u001b[0m\u001b[0;34m\u001b[0m\n",
       "\u001b[0;34m\u001b[0m    \u001b[0mAMAZON_REVIEWS_POLARITY\u001b[0m \u001b[0;34m=\u001b[0m \u001b[0;34mf'{S3_NLP}amazon_review_polarity_csv'\u001b[0m\u001b[0;34m\u001b[0m\n",
       "\u001b[0;34m\u001b[0m    \u001b[0mDBPEDIA\u001b[0m                 \u001b[0;34m=\u001b[0m \u001b[0;34mf'{S3_NLP}dbpedia_csv'\u001b[0m\u001b[0;34m\u001b[0m\n",
       "\u001b[0;34m\u001b[0m    \u001b[0mMT_ENG_FRA\u001b[0m              \u001b[0;34m=\u001b[0m \u001b[0;34mf'{S3_NLP}giga-fren'\u001b[0m\u001b[0;34m\u001b[0m\n",
       "\u001b[0;34m\u001b[0m    \u001b[0mSOGOU_NEWS\u001b[0m              \u001b[0;34m=\u001b[0m \u001b[0;34mf'{S3_NLP}sogou_news_csv'\u001b[0m\u001b[0;34m\u001b[0m\n",
       "\u001b[0;34m\u001b[0m    \u001b[0mWIKITEXT\u001b[0m                \u001b[0;34m=\u001b[0m \u001b[0;34mf'{S3_NLP}wikitext-103'\u001b[0m\u001b[0;34m\u001b[0m\n",
       "\u001b[0;34m\u001b[0m    \u001b[0mWIKITEXT_TINY\u001b[0m           \u001b[0;34m=\u001b[0m \u001b[0;34mf'{S3_NLP}wikitext-2'\u001b[0m\u001b[0;34m\u001b[0m\n",
       "\u001b[0;34m\u001b[0m    \u001b[0mYAHOO_ANSWERS\u001b[0m           \u001b[0;34m=\u001b[0m \u001b[0;34mf'{S3_NLP}yahoo_answers_csv'\u001b[0m\u001b[0;34m\u001b[0m\n",
       "\u001b[0;34m\u001b[0m    \u001b[0mYELP_REVIEWS\u001b[0m            \u001b[0;34m=\u001b[0m \u001b[0;34mf'{S3_NLP}yelp_review_full_csv'\u001b[0m\u001b[0;34m\u001b[0m\n",
       "\u001b[0;34m\u001b[0m    \u001b[0mYELP_REVIEWS_POLARITY\u001b[0m   \u001b[0;34m=\u001b[0m \u001b[0;34mf'{S3_NLP}yelp_review_polarity_csv'\u001b[0m\u001b[0;34m\u001b[0m\n",
       "\u001b[0;34m\u001b[0m\u001b[0;34m\u001b[0m\n",
       "\u001b[0;34m\u001b[0m    \u001b[0;31m# Image localization datasets\u001b[0m\u001b[0;34m\u001b[0m\n",
       "\u001b[0;34m\u001b[0m    \u001b[0mBIWI_HEAD_POSE\u001b[0m     \u001b[0;34m=\u001b[0m \u001b[0;34mf\"{S3_IMAGELOC}biwi_head_pose\"\u001b[0m\u001b[0;34m\u001b[0m\n",
       "\u001b[0;34m\u001b[0m    \u001b[0mCAMVID\u001b[0m             \u001b[0;34m=\u001b[0m \u001b[0;34mf'{S3_IMAGELOC}camvid'\u001b[0m\u001b[0;34m\u001b[0m\n",
       "\u001b[0;34m\u001b[0m    \u001b[0mCAMVID_TINY\u001b[0m        \u001b[0;34m=\u001b[0m \u001b[0;34mf'{URL}camvid_tiny'\u001b[0m\u001b[0;34m\u001b[0m\n",
       "\u001b[0;34m\u001b[0m    \u001b[0mLSUN_BEDROOMS\u001b[0m      \u001b[0;34m=\u001b[0m \u001b[0;34mf'{S3_IMAGE}bedroom'\u001b[0m\u001b[0;34m\u001b[0m\n",
       "\u001b[0;34m\u001b[0m    \u001b[0mPASCAL_2007\u001b[0m        \u001b[0;34m=\u001b[0m \u001b[0;34mf'{S3_IMAGELOC}pascal_2007'\u001b[0m\u001b[0;34m\u001b[0m\n",
       "\u001b[0;34m\u001b[0m    \u001b[0mPASCAL_2012\u001b[0m        \u001b[0;34m=\u001b[0m \u001b[0;34mf'{S3_IMAGELOC}pascal_2012'\u001b[0m\u001b[0;34m\u001b[0m\n",
       "\u001b[0;34m\u001b[0m\u001b[0;34m\u001b[0m\n",
       "\u001b[0;34m\u001b[0m    \u001b[0;31m#Pretrained models\u001b[0m\u001b[0;34m\u001b[0m\n",
       "\u001b[0;34m\u001b[0m    \u001b[0mOPENAI_TRANSFORMER\u001b[0m \u001b[0;34m=\u001b[0m \u001b[0;34mf'{S3_MODEL}transformer'\u001b[0m\u001b[0;34m\u001b[0m\n",
       "\u001b[0;34m\u001b[0m    \u001b[0mWT103_FWD\u001b[0m          \u001b[0;34m=\u001b[0m \u001b[0;34mf'{S3_MODEL}wt103-fwd'\u001b[0m\u001b[0;34m\u001b[0m\n",
       "\u001b[0;34m\u001b[0m    \u001b[0mWT103_BWD\u001b[0m          \u001b[0;34m=\u001b[0m \u001b[0;34mf'{S3_MODEL}wt103-bwd'\u001b[0m\u001b[0;34m\u001b[0m\u001b[0;34m\u001b[0m\u001b[0m\n",
       "\u001b[0;31mFile:\u001b[0m           /usr/local/lib/python3.7/site-packages/fastai/datasets.py\n",
       "\u001b[0;31mType:\u001b[0m           type\n",
       "\u001b[0;31mSubclasses:\u001b[0m     \n"
      ]
     },
     "metadata": {},
     "output_type": "display_data"
    }
   ],
   "source": [
    "?? URLs"
   ]
  },
  {
   "cell_type": "markdown",
   "metadata": {},
   "source": [
    "It is always good to start working on a sample of your data before you use the full dataset-- this allows for quicker computations as you debug and get your code working. For IMDB, there is a sample dataset already available:"
   ]
  },
  {
   "cell_type": "code",
   "execution_count": 5,
   "metadata": {},
   "outputs": [],
   "source": [
    "# trn_term_doc = scipy.sparse.load_npz(\"trn_term_doc.npz\")\n",
    "# val_term_doc = scipy.sparse.load_npz(\"val_term_doc.npz\")"
   ]
  },
  {
   "cell_type": "code",
   "execution_count": 6,
   "metadata": {},
   "outputs": [],
   "source": [
    "def get_term_doc_matrix(label_list, vocab_len):\n",
    "    j_indices = []\n",
    "    indptr = []\n",
    "    values = []\n",
    "    indptr.append(0)\n",
    "\n",
    "    for i, doc in enumerate(label_list):\n",
    "        feature_counter = Counter(doc.data)\n",
    "        j_indices.extend(feature_counter.keys())\n",
    "        values.extend(feature_counter.values())\n",
    "        indptr.append(len(j_indices))\n",
    "        \n",
    "#     return (values, j_indices, indptr)\n",
    "\n",
    "    return scipy.sparse.csr_matrix((values, j_indices, indptr),\n",
    "                                   shape=(len(indptr) - 1, vocab_len),\n",
    "                                   dtype=int)"
   ]
  },
  {
   "cell_type": "code",
   "execution_count": 7,
   "metadata": {},
   "outputs": [
    {
     "data": {
      "text/plain": [
       "[PosixPath('/Users/lakshay/.fastai/data/imdb/test'),\n",
       " PosixPath('/Users/lakshay/.fastai/data/imdb/tmp_clas'),\n",
       " PosixPath('/Users/lakshay/.fastai/data/imdb/imdb.vocab'),\n",
       " PosixPath('/Users/lakshay/.fastai/data/imdb/unsup'),\n",
       " PosixPath('/Users/lakshay/.fastai/data/imdb/README'),\n",
       " PosixPath('/Users/lakshay/.fastai/data/imdb/tmp_lm'),\n",
       " PosixPath('/Users/lakshay/.fastai/data/imdb/train')]"
      ]
     },
     "execution_count": 7,
     "metadata": {},
     "output_type": "execute_result"
    }
   ],
   "source": [
    "path = untar_data(URLs.IMDB)\n",
    "path.ls()"
   ]
  },
  {
   "cell_type": "code",
   "execution_count": 8,
   "metadata": {},
   "outputs": [
    {
     "data": {
      "text/plain": [
       "[PosixPath('/Users/lakshay/.fastai/data/imdb/train/neg'),\n",
       " PosixPath('/Users/lakshay/.fastai/data/imdb/train/pos'),\n",
       " PosixPath('/Users/lakshay/.fastai/data/imdb/train/unsupBow.feat'),\n",
       " PosixPath('/Users/lakshay/.fastai/data/imdb/train/labeledBow.feat')]"
      ]
     },
     "execution_count": 8,
     "metadata": {},
     "output_type": "execute_result"
    }
   ],
   "source": [
    "(path/'train').ls()"
   ]
  },
  {
   "cell_type": "code",
   "execution_count": 9,
   "metadata": {},
   "outputs": [],
   "source": [
    "reviews_full = (TextList.from_folder(path)\n",
    "             #grab all the text files in path\n",
    "             .split_by_folder(valid='test')\n",
    "             #split by train and valid folder (that only keeps 'train' and 'test' so no need to filter)\n",
    "             .label_from_folder(classes=['neg', 'pos']))\n",
    "             #label them all with their folders"
   ]
  },
  {
   "cell_type": "code",
   "execution_count": 10,
   "metadata": {},
   "outputs": [
    {
     "data": {
      "text/plain": [
       "(25000, 25000)"
      ]
     },
     "execution_count": 10,
     "metadata": {},
     "output_type": "execute_result"
    }
   ],
   "source": [
    "len(reviews_full.train), len(reviews_full.valid)"
   ]
  },
  {
   "cell_type": "markdown",
   "metadata": {},
   "source": [
    "We will store the vocab in a variable `v` since we will be using it frequently:"
   ]
  },
  {
   "cell_type": "code",
   "execution_count": 11,
   "metadata": {},
   "outputs": [],
   "source": [
    "v = reviews_full.vocab"
   ]
  },
  {
   "cell_type": "code",
   "execution_count": 12,
   "metadata": {
    "scrolled": true
   },
   "outputs": [
    {
     "data": {
      "text/plain": [
       "['bad',\n",
       " 'people',\n",
       " 'will',\n",
       " 'other',\n",
       " 'also',\n",
       " 'into',\n",
       " 'first',\n",
       " 'because',\n",
       " 'great',\n",
       " 'how']"
      ]
     },
     "execution_count": 12,
     "metadata": {},
     "output_type": "execute_result"
    }
   ],
   "source": [
    "v.itos[100:110]"
   ]
  },
  {
   "cell_type": "code",
   "execution_count": 13,
   "metadata": {},
   "outputs": [
    {
     "name": "stdout",
     "output_type": "stream",
     "text": [
      "CPU times: user 4.01 s, sys: 87.9 ms, total: 4.1 s\n",
      "Wall time: 4.11 s\n"
     ]
    }
   ],
   "source": [
    "%%time\n",
    "val_term_doc = get_term_doc_matrix(reviews_full.valid.x, len(reviews_full.vocab.itos))"
   ]
  },
  {
   "cell_type": "code",
   "execution_count": 14,
   "metadata": {
    "scrolled": true
   },
   "outputs": [
    {
     "name": "stdout",
     "output_type": "stream",
     "text": [
      "CPU times: user 4.12 s, sys: 147 ms, total: 4.27 s\n",
      "Wall time: 4.25 s\n"
     ]
    }
   ],
   "source": [
    "%%time\n",
    "trn_term_doc = get_term_doc_matrix(reviews_full.train.x, len(reviews_full.vocab.itos))"
   ]
  },
  {
   "cell_type": "code",
   "execution_count": 43,
   "metadata": {},
   "outputs": [],
   "source": [
    "x = trn_term_doc\n",
    "y = reviews_full.train.y\n",
    "\n",
    "\n",
    "val_y = reviews_full.valid.y.items"
   ]
  },
  {
   "cell_type": "code",
   "execution_count": 16,
   "metadata": {},
   "outputs": [
    {
     "data": {
      "text/plain": [
       "<25000x38456 sparse matrix of type '<class 'numpy.int64'>'\n",
       "\twith 3716267 stored elements in Compressed Sparse Row format>"
      ]
     },
     "execution_count": 16,
     "metadata": {},
     "output_type": "execute_result"
    }
   ],
   "source": [
    "x"
   ]
  },
  {
   "cell_type": "code",
   "execution_count": 18,
   "metadata": {},
   "outputs": [],
   "source": [
    "positive = y.c2i['pos']\n",
    "negative = y.c2i['neg']\n",
    "\n",
    "p1 = np.squeeze(np.asarray(x[y.items==positive].sum(0)))\n",
    "p0 = np.squeeze(np.asarray(x[y.items==negative].sum(0)))"
   ]
  },
  {
   "cell_type": "code",
   "execution_count": 19,
   "metadata": {},
   "outputs": [
    {
     "data": {
      "text/plain": [
       "array([ 28449,      0,  12500,      0,      0, 342619,  20464,   1338,      7, 173122, 138001, 143763,  89570,  83404,\n",
       "        76828,  66715,  58510,  47896,  50177,  40451], dtype=int64)"
      ]
     },
     "execution_count": 19,
     "metadata": {},
     "output_type": "execute_result"
    }
   ],
   "source": [
    "p1[:20]"
   ]
  },
  {
   "cell_type": "code",
   "execution_count": 20,
   "metadata": {},
   "outputs": [],
   "source": [
    "def word_ratio(word):\n",
    "    return( p0[v.stoi[word]]/p1[v.stoi[word]])"
   ]
  },
  {
   "cell_type": "code",
   "execution_count": 37,
   "metadata": {},
   "outputs": [],
   "source": [
    "pr1 = (p1+1) / ((y.items==positive).sum()+1)\n",
    "pr0 = (p0+1) / ((y.items==negative).sum()+1)"
   ]
  },
  {
   "cell_type": "code",
   "execution_count": 38,
   "metadata": {},
   "outputs": [],
   "source": [
    "r = np.log(pr1/pr0)"
   ]
  },
  {
   "cell_type": "code",
   "execution_count": 39,
   "metadata": {},
   "outputs": [
    {
     "data": {
      "text/plain": [
       "1.1563661500586044"
      ]
     },
     "execution_count": 39,
     "metadata": {},
     "output_type": "execute_result"
    }
   ],
   "source": [
    "r[v.stoi['loved']]"
   ]
  },
  {
   "cell_type": "code",
   "execution_count": 40,
   "metadata": {},
   "outputs": [
    {
     "data": {
      "text/plain": [
       "0.0"
      ]
     },
     "execution_count": 40,
     "metadata": {},
     "output_type": "execute_result"
    }
   ],
   "source": [
    "#add a bias for terms which are in the oversampled class\n",
    "\n",
    "b = log((y.items==positive).mean() / (y.items==negative).mean()); b"
   ]
  },
  {
   "cell_type": "code",
   "execution_count": 41,
   "metadata": {},
   "outputs": [],
   "source": [
    "preds = (val_term_doc * r + b)>0"
   ]
  },
  {
   "cell_type": "code",
   "execution_count": 44,
   "metadata": {},
   "outputs": [
    {
     "data": {
      "text/plain": [
       "0.8084"
      ]
     },
     "execution_count": 44,
     "metadata": {},
     "output_type": "execute_result"
    }
   ],
   "source": [
    "(preds==val_y).mean()"
   ]
  },
  {
   "cell_type": "code",
   "execution_count": 45,
   "metadata": {},
   "outputs": [],
   "source": [
    "x = trn_term_doc.sign()\n",
    "y = reviews_full.train.y"
   ]
  },
  {
   "cell_type": "code",
   "execution_count": 47,
   "metadata": {},
   "outputs": [
    {
     "data": {
      "text/plain": [
       "matrix([[0, 0, 1, 0, ..., 0, 0, 0, 1],\n",
       "        [0, 0, 1, 0, ..., 1, 0, 0, 1],\n",
       "        [0, 0, 1, 0, ..., 1, 0, 0, 1],\n",
       "        [1, 0, 1, 0, ..., 1, 1, 0, 1],\n",
       "        ...,\n",
       "        [1, 0, 1, 0, ..., 0, 0, 0, 1],\n",
       "        [1, 0, 1, 0, ..., 1, 0, 0, 1],\n",
       "        [0, 0, 1, 0, ..., 1, 0, 0, 1],\n",
       "        [1, 0, 1, 0, ..., 0, 0, 0, 1]])"
      ]
     },
     "execution_count": 47,
     "metadata": {},
     "output_type": "execute_result"
    }
   ],
   "source": [
    "x.todense()[:10,:10]"
   ]
  },
  {
   "cell_type": "code",
   "execution_count": 48,
   "metadata": {},
   "outputs": [
    {
     "data": {
      "text/plain": [
       "matrix([[ 0,  0,  1,  0, ...,  0,  0,  0,  2],\n",
       "        [ 0,  0,  1,  0, ...,  4,  0,  0, 12],\n",
       "        [ 0,  0,  1,  0, ...,  1,  0,  0,  4],\n",
       "        [ 4,  0,  1,  0, ...,  4,  1,  0, 19],\n",
       "        ...,\n",
       "        [ 3,  0,  1,  0, ...,  0,  0,  0, 10],\n",
       "        [ 2,  0,  1,  0, ...,  1,  0,  0,  4],\n",
       "        [ 0,  0,  1,  0, ...,  1,  0,  0,  9],\n",
       "        [ 2,  0,  1,  0, ...,  0,  0,  0, 16]])"
      ]
     },
     "execution_count": 48,
     "metadata": {},
     "output_type": "execute_result"
    }
   ],
   "source": [
    "trn_term_doc.todense()[:10,:10]"
   ]
  },
  {
   "cell_type": "code",
   "execution_count": 50,
   "metadata": {},
   "outputs": [],
   "source": [
    "negative = y.c2i['neg']\n",
    "positive = y.c2i['pos']"
   ]
  },
  {
   "cell_type": "code",
   "execution_count": 51,
   "metadata": {},
   "outputs": [],
   "source": [
    "p1 = np.squeeze(np.asarray(x[y.items==positive]).sum(0))\n",
    "p0 = np.squeeze(np.asarray(x[y.items==negative]).sum(0))"
   ]
  },
  {
   "cell_type": "code",
   "execution_count": 52,
   "metadata": {},
   "outputs": [],
   "source": [
    "r = np.log(pr1/pr0)\n",
    "b = np.log((y.items==positive).mean() / (y.items==negative).mean())\n",
    "\n",
    "preds = (val_term_doc.sign() @ r + b) > 0"
   ]
  },
  {
   "cell_type": "code",
   "execution_count": 53,
   "metadata": {},
   "outputs": [
    {
     "data": {
      "text/plain": [
       "0.8328"
      ]
     },
     "execution_count": 53,
     "metadata": {},
     "output_type": "execute_result"
    }
   ],
   "source": [
    "(preds==val_y).mean()"
   ]
  },
  {
   "cell_type": "code",
   "execution_count": null,
   "metadata": {},
   "outputs": [],
   "source": []
  }
 ],
 "metadata": {
  "kernelspec": {
   "display_name": "Python 3",
   "language": "python",
   "name": "python3"
  },
  "language_info": {
   "codemirror_mode": {
    "name": "ipython",
    "version": 3
   },
   "file_extension": ".py",
   "mimetype": "text/x-python",
   "name": "python",
   "nbconvert_exporter": "python",
   "pygments_lexer": "ipython3",
   "version": "3.7.2"
  }
 },
 "nbformat": 4,
 "nbformat_minor": 4
}
