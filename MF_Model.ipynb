{
  "nbformat": 4,
  "nbformat_minor": 0,
  "metadata": {
    "colab": {
      "name": "MF_Model.ipynb",
      "provenance": [],
      "collapsed_sections": [],
      "authorship_tag": "ABX9TyNaDDMFVZ+inlwC/t5NPupa",
      "include_colab_link": true
    },
    "kernelspec": {
      "name": "python3",
      "display_name": "Python 3"
    },
    "accelerator": "GPU"
  },
  "cells": [
    {
      "cell_type": "markdown",
      "metadata": {
        "id": "view-in-github",
        "colab_type": "text"
      },
      "source": [
        "<a href=\"https://colab.research.google.com/github/ogsharma/aimoocs/blob/master/MF_Model.ipynb\" target=\"_parent\"><img src=\"https://colab.research.google.com/assets/colab-badge.svg\" alt=\"Open In Colab\"/></a>"
      ]
    },
    {
      "cell_type": "code",
      "metadata": {
        "id": "zEfwR83m6KyY",
        "colab_type": "code",
        "outputId": "09be9342-8959-49a5-816b-2cc7c4eec769",
        "colab": {
          "base_uri": "https://localhost:8080/",
          "height": 632
        }
      },
      "source": [
        "!pip install tensorflow --upgrade"
      ],
      "execution_count": 0,
      "outputs": [
        {
          "output_type": "stream",
          "text": [
            "Requirement already up-to-date: tensorflow in /usr/local/lib/python3.6/dist-packages (2.1.0)\n",
            "Requirement already satisfied, skipping upgrade: wheel>=0.26; python_version >= \"3\" in /usr/local/lib/python3.6/dist-packages (from tensorflow) (0.33.6)\n",
            "Requirement already satisfied, skipping upgrade: astor>=0.6.0 in /usr/local/lib/python3.6/dist-packages (from tensorflow) (0.8.1)\n",
            "Requirement already satisfied, skipping upgrade: tensorboard<2.2.0,>=2.1.0 in /usr/local/lib/python3.6/dist-packages (from tensorflow) (2.1.0)\n",
            "Requirement already satisfied, skipping upgrade: tensorflow-estimator<2.2.0,>=2.1.0rc0 in /usr/local/lib/python3.6/dist-packages (from tensorflow) (2.1.0)\n",
            "Requirement already satisfied, skipping upgrade: gast==0.2.2 in /usr/local/lib/python3.6/dist-packages (from tensorflow) (0.2.2)\n",
            "Requirement already satisfied, skipping upgrade: wrapt>=1.11.1 in /usr/local/lib/python3.6/dist-packages (from tensorflow) (1.11.2)\n",
            "Requirement already satisfied, skipping upgrade: scipy==1.4.1; python_version >= \"3\" in /usr/local/lib/python3.6/dist-packages (from tensorflow) (1.4.1)\n",
            "Requirement already satisfied, skipping upgrade: keras-applications>=1.0.8 in /usr/local/lib/python3.6/dist-packages (from tensorflow) (1.0.8)\n",
            "Requirement already satisfied, skipping upgrade: keras-preprocessing>=1.1.0 in /usr/local/lib/python3.6/dist-packages (from tensorflow) (1.1.0)\n",
            "Requirement already satisfied, skipping upgrade: six>=1.12.0 in /usr/local/lib/python3.6/dist-packages (from tensorflow) (1.12.0)\n",
            "Requirement already satisfied, skipping upgrade: grpcio>=1.8.6 in /usr/local/lib/python3.6/dist-packages (from tensorflow) (1.15.0)\n",
            "Requirement already satisfied, skipping upgrade: opt-einsum>=2.3.2 in /usr/local/lib/python3.6/dist-packages (from tensorflow) (3.1.0)\n",
            "Requirement already satisfied, skipping upgrade: protobuf>=3.8.0 in /usr/local/lib/python3.6/dist-packages (from tensorflow) (3.10.0)\n",
            "Requirement already satisfied, skipping upgrade: absl-py>=0.7.0 in /usr/local/lib/python3.6/dist-packages (from tensorflow) (0.9.0)\n",
            "Requirement already satisfied, skipping upgrade: termcolor>=1.1.0 in /usr/local/lib/python3.6/dist-packages (from tensorflow) (1.1.0)\n",
            "Requirement already satisfied, skipping upgrade: numpy<2.0,>=1.16.0 in /usr/local/lib/python3.6/dist-packages (from tensorflow) (1.17.5)\n",
            "Requirement already satisfied, skipping upgrade: google-pasta>=0.1.6 in /usr/local/lib/python3.6/dist-packages (from tensorflow) (0.1.8)\n",
            "Requirement already satisfied, skipping upgrade: werkzeug>=0.11.15 in /usr/local/lib/python3.6/dist-packages (from tensorboard<2.2.0,>=2.1.0->tensorflow) (0.16.0)\n",
            "Requirement already satisfied, skipping upgrade: markdown>=2.6.8 in /usr/local/lib/python3.6/dist-packages (from tensorboard<2.2.0,>=2.1.0->tensorflow) (3.1.1)\n",
            "Requirement already satisfied, skipping upgrade: setuptools>=41.0.0 in /usr/local/lib/python3.6/dist-packages (from tensorboard<2.2.0,>=2.1.0->tensorflow) (42.0.2)\n",
            "Requirement already satisfied, skipping upgrade: google-auth<2,>=1.6.3 in /usr/local/lib/python3.6/dist-packages (from tensorboard<2.2.0,>=2.1.0->tensorflow) (1.11.0)\n",
            "Requirement already satisfied, skipping upgrade: google-auth-oauthlib<0.5,>=0.4.1 in /usr/local/lib/python3.6/dist-packages (from tensorboard<2.2.0,>=2.1.0->tensorflow) (0.4.1)\n",
            "Requirement already satisfied, skipping upgrade: requests<3,>=2.21.0 in /usr/local/lib/python3.6/dist-packages (from tensorboard<2.2.0,>=2.1.0->tensorflow) (2.21.0)\n",
            "Requirement already satisfied, skipping upgrade: h5py in /usr/local/lib/python3.6/dist-packages (from keras-applications>=1.0.8->tensorflow) (2.8.0)\n",
            "Requirement already satisfied, skipping upgrade: rsa<4.1,>=3.1.4 in /usr/local/lib/python3.6/dist-packages (from google-auth<2,>=1.6.3->tensorboard<2.2.0,>=2.1.0->tensorflow) (4.0)\n",
            "Requirement already satisfied, skipping upgrade: cachetools<5.0,>=2.0.0 in /usr/local/lib/python3.6/dist-packages (from google-auth<2,>=1.6.3->tensorboard<2.2.0,>=2.1.0->tensorflow) (4.0.0)\n",
            "Requirement already satisfied, skipping upgrade: pyasn1-modules>=0.2.1 in /usr/local/lib/python3.6/dist-packages (from google-auth<2,>=1.6.3->tensorboard<2.2.0,>=2.1.0->tensorflow) (0.2.7)\n",
            "Requirement already satisfied, skipping upgrade: requests-oauthlib>=0.7.0 in /usr/local/lib/python3.6/dist-packages (from google-auth-oauthlib<0.5,>=0.4.1->tensorboard<2.2.0,>=2.1.0->tensorflow) (1.3.0)\n",
            "Requirement already satisfied, skipping upgrade: idna<2.9,>=2.5 in /usr/local/lib/python3.6/dist-packages (from requests<3,>=2.21.0->tensorboard<2.2.0,>=2.1.0->tensorflow) (2.8)\n",
            "Requirement already satisfied, skipping upgrade: certifi>=2017.4.17 in /usr/local/lib/python3.6/dist-packages (from requests<3,>=2.21.0->tensorboard<2.2.0,>=2.1.0->tensorflow) (2019.11.28)\n",
            "Requirement already satisfied, skipping upgrade: chardet<3.1.0,>=3.0.2 in /usr/local/lib/python3.6/dist-packages (from requests<3,>=2.21.0->tensorboard<2.2.0,>=2.1.0->tensorflow) (3.0.4)\n",
            "Requirement already satisfied, skipping upgrade: urllib3<1.25,>=1.21.1 in /usr/local/lib/python3.6/dist-packages (from requests<3,>=2.21.0->tensorboard<2.2.0,>=2.1.0->tensorflow) (1.24.3)\n",
            "Requirement already satisfied, skipping upgrade: pyasn1>=0.1.3 in /usr/local/lib/python3.6/dist-packages (from rsa<4.1,>=3.1.4->google-auth<2,>=1.6.3->tensorboard<2.2.0,>=2.1.0->tensorflow) (0.4.8)\n",
            "Requirement already satisfied, skipping upgrade: oauthlib>=3.0.0 in /usr/local/lib/python3.6/dist-packages (from requests-oauthlib>=0.7.0->google-auth-oauthlib<0.5,>=0.4.1->tensorboard<2.2.0,>=2.1.0->tensorflow) (3.1.0)\n"
          ],
          "name": "stdout"
        }
      ]
    },
    {
      "cell_type": "code",
      "metadata": {
        "id": "qzDQW6SanoOI",
        "colab_type": "code",
        "colab": {}
      },
      "source": [
        "import numpy as np\n",
        "import pandas as pd\n",
        "import tensorflow as tf\n",
        "tf.config.experimental_run_functions_eagerly(True)\n",
        "import os\n",
        "import matplotlib.pyplot as plt\n",
        "from sys import stdout"
      ],
      "execution_count": 0,
      "outputs": []
    },
    {
      "cell_type": "code",
      "metadata": {
        "id": "R-9lJSkwpEuU",
        "colab_type": "code",
        "outputId": "2f2da01d-bf28-43ea-c58e-0e579171c181",
        "colab": {
          "base_uri": "https://localhost:8080/",
          "height": 34
        }
      },
      "source": [
        "import tensorflow as tf\n",
        "device_name = tf.test.gpu_device_name()\n",
        "if device_name != '/device:GPU:0':\n",
        "  raise SystemError('GPU device not found')\n",
        "print('Found GPU at: {}'.format(device_name))"
      ],
      "execution_count": 0,
      "outputs": [
        {
          "output_type": "stream",
          "text": [
            "Found GPU at: /device:GPU:0\n"
          ],
          "name": "stdout"
        }
      ]
    },
    {
      "cell_type": "code",
      "metadata": {
        "id": "I5g963OWe4eJ",
        "colab_type": "code",
        "outputId": "48fcd6b4-ab56-4a66-d512-5c47fdc79cf1",
        "colab": {
          "base_uri": "https://localhost:8080/",
          "height": 34
        }
      },
      "source": [
        "tf.__version__"
      ],
      "execution_count": 0,
      "outputs": [
        {
          "output_type": "execute_result",
          "data": {
            "text/plain": [
              "'2.1.0'"
            ]
          },
          "metadata": {
            "tags": []
          },
          "execution_count": 4
        }
      ]
    },
    {
      "cell_type": "code",
      "metadata": {
        "id": "jHCNJcM9noOM",
        "colab_type": "code",
        "colab": {}
      },
      "source": [
        "import collections\n",
        "from IPython import display\n",
        "from matplotlib import pyplot as plt\n",
        "import sklearn\n",
        "import sklearn.manifold\n",
        "import tensorflow as tf\n",
        "\n",
        "# Add some convenience functions to Pandas DataFrame.\n",
        "pd.options.display.max_rows = 100\n",
        "pd.options.display.float_format = '{:.3f}'.format\n",
        "\n",
        "def mask(df, key, function):\n",
        "    \"\"\"Returns a filtered dataframe, by applying function to key\"\"\"\n",
        "    return df[function(df[key])]\n",
        "\n",
        "def flatten_cols(df):\n",
        "    df.columns = [' '.join(col).strip() for col in df.columns.values]\n",
        "    return df\n",
        "\n",
        "pd.DataFrame.mask = mask\n",
        "pd.DataFrame.flatten_cols = flatten_cols"
      ],
      "execution_count": 0,
      "outputs": []
    },
    {
      "cell_type": "code",
      "metadata": {
        "id": "mWbxzOTBnxBl",
        "colab_type": "code",
        "outputId": "c0b26c06-457c-4319-f969-366ddad6159c",
        "colab": {
          "base_uri": "https://localhost:8080/",
          "height": 34
        }
      },
      "source": [
        "from google.colab import drive\n",
        "import pandas as pd\n",
        "drive.mount('/content/drive')\n",
        "with open('/content/drive/My Drive/user_ratings.csv', 'r') as f:\n",
        "  ratings = pd.read_csv(f)\n",
        "\n",
        "with open('/content/drive/My Drive/job_title_mapping.csv', 'r') as f:\n",
        "    job_title_mapping = pd.read_csv(f)\n",
        "\n",
        "ratings.columns = ['user_id','job_id','rating']\n",
        "\n",
        "## Create User ID and Job ID Mapping (For using a sparse matrix representation)\n",
        "\n",
        "user_id_mapping = {}\n",
        "\n",
        "for idx,uid in enumerate(list(ratings.user_id.unique())):\n",
        "    user_id_mapping[uid] = idx\n",
        "\n",
        "job_id_mapping = {}\n",
        "\n",
        "for idx,uid in enumerate(list(ratings.job_id.unique())):\n",
        "    job_id_mapping[uid] = idx\n",
        "\n",
        "# Applying the new mapping on Users and Jobs\n",
        "\n",
        "ratings.loc[:,'user_id'] = ratings['user_id'].apply(lambda x : user_id_mapping[x])\n",
        "ratings.loc[:,'job_id'] = ratings['job_id'].apply(lambda x : job_id_mapping[x])\n",
        "\n",
        "# Creating a mapping for old Job ID to new Job ID\n",
        "job_title_mapping['new_id'] = job_title_mapping['job_id'].apply(lambda x : job_id_mapping[x])\n",
        "\n",
        "# New column names for job title Dataframe\n",
        "job_title_mapping.columns = ['old_id','title','job_id']\n",
        "\n",
        "#\n",
        "jobs = pd.merge(ratings['job_id'],job_title_mapping[['title','job_id']],on='job_id',how='left')\n",
        "jobs.drop_duplicates(['job_id'],inplace=True)\n",
        "jobs = jobs.reset_index().drop(['index'],axis=1)\n",
        "\n"
      ],
      "execution_count": 0,
      "outputs": [
        {
          "output_type": "stream",
          "text": [
            "Drive already mounted at /content/drive; to attempt to forcibly remount, call drive.mount(\"/content/drive\", force_remount=True).\n"
          ],
          "name": "stdout"
        }
      ]
    },
    {
      "cell_type": "code",
      "metadata": {
        "id": "bT6H7atZAYsa",
        "colab_type": "code",
        "outputId": "798bdb6a-45fd-4cea-c25c-319093f78932",
        "colab": {
          "base_uri": "https://localhost:8080/",
          "height": 204
        }
      },
      "source": [
        "ratings.sample(5)"
      ],
      "execution_count": 0,
      "outputs": [
        {
          "output_type": "execute_result",
          "data": {
            "text/html": [
              "<div>\n",
              "<style scoped>\n",
              "    .dataframe tbody tr th:only-of-type {\n",
              "        vertical-align: middle;\n",
              "    }\n",
              "\n",
              "    .dataframe tbody tr th {\n",
              "        vertical-align: top;\n",
              "    }\n",
              "\n",
              "    .dataframe thead th {\n",
              "        text-align: right;\n",
              "    }\n",
              "</style>\n",
              "<table border=\"1\" class=\"dataframe\">\n",
              "  <thead>\n",
              "    <tr style=\"text-align: right;\">\n",
              "      <th></th>\n",
              "      <th>user_id</th>\n",
              "      <th>job_id</th>\n",
              "      <th>rating</th>\n",
              "    </tr>\n",
              "  </thead>\n",
              "  <tbody>\n",
              "    <tr>\n",
              "      <th>3133094</th>\n",
              "      <td>110987</td>\n",
              "      <td>256</td>\n",
              "      <td>2</td>\n",
              "    </tr>\n",
              "    <tr>\n",
              "      <th>1963992</th>\n",
              "      <td>25675</td>\n",
              "      <td>11138</td>\n",
              "      <td>2</td>\n",
              "    </tr>\n",
              "    <tr>\n",
              "      <th>1629863</th>\n",
              "      <td>35927</td>\n",
              "      <td>896</td>\n",
              "      <td>1</td>\n",
              "    </tr>\n",
              "    <tr>\n",
              "      <th>748934</th>\n",
              "      <td>21379</td>\n",
              "      <td>15760</td>\n",
              "      <td>1</td>\n",
              "    </tr>\n",
              "    <tr>\n",
              "      <th>1877859</th>\n",
              "      <td>103115</td>\n",
              "      <td>1490</td>\n",
              "      <td>2</td>\n",
              "    </tr>\n",
              "  </tbody>\n",
              "</table>\n",
              "</div>"
            ],
            "text/plain": [
              "         user_id  job_id  rating\n",
              "3133094   110987     256       2\n",
              "1963992    25675   11138       2\n",
              "1629863    35927     896       1\n",
              "748934     21379   15760       1\n",
              "1877859   103115    1490       2"
            ]
          },
          "metadata": {
            "tags": []
          },
          "execution_count": 8
        }
      ]
    },
    {
      "cell_type": "code",
      "metadata": {
        "id": "kEsEbszsIMwZ",
        "colab_type": "code",
        "outputId": "145c4c94-e5b9-4766-9e6d-ce254a9e77cc",
        "colab": {
          "base_uri": "https://localhost:8080/",
          "height": 204
        }
      },
      "source": [
        "jobs.sample(5)"
      ],
      "execution_count": 0,
      "outputs": [
        {
          "output_type": "execute_result",
          "data": {
            "text/html": [
              "<div>\n",
              "<style scoped>\n",
              "    .dataframe tbody tr th:only-of-type {\n",
              "        vertical-align: middle;\n",
              "    }\n",
              "\n",
              "    .dataframe tbody tr th {\n",
              "        vertical-align: top;\n",
              "    }\n",
              "\n",
              "    .dataframe thead th {\n",
              "        text-align: right;\n",
              "    }\n",
              "</style>\n",
              "<table border=\"1\" class=\"dataframe\">\n",
              "  <thead>\n",
              "    <tr style=\"text-align: right;\">\n",
              "      <th></th>\n",
              "      <th>job_id</th>\n",
              "      <th>title</th>\n",
              "    </tr>\n",
              "  </thead>\n",
              "  <tbody>\n",
              "    <tr>\n",
              "      <th>14500</th>\n",
              "      <td>14500</td>\n",
              "      <td>Head - Internal Audit - NBFC (9-16 yrs)</td>\n",
              "    </tr>\n",
              "    <tr>\n",
              "      <th>13499</th>\n",
              "      <td>13499</td>\n",
              "      <td>Drip Capital - Manager - Talent Acquisition  (...</td>\n",
              "    </tr>\n",
              "    <tr>\n",
              "      <th>37404</th>\n",
              "      <td>37404</td>\n",
              "      <td>Chief of Staff/Program Manager - FinTech (7-10...</td>\n",
              "    </tr>\n",
              "    <tr>\n",
              "      <th>2232</th>\n",
              "      <td>2232</td>\n",
              "      <td>Inventory Manager - Retail Chain (3-6 yrs)</td>\n",
              "    </tr>\n",
              "    <tr>\n",
              "      <th>37861</th>\n",
              "      <td>37861</td>\n",
              "      <td>Business Development Manager - Energy/Power Ma...</td>\n",
              "    </tr>\n",
              "  </tbody>\n",
              "</table>\n",
              "</div>"
            ],
            "text/plain": [
              "       job_id                                              title\n",
              "14500   14500            Head - Internal Audit - NBFC (9-16 yrs)\n",
              "13499   13499  Drip Capital - Manager - Talent Acquisition  (...\n",
              "37404   37404  Chief of Staff/Program Manager - FinTech (7-10...\n",
              "2232     2232         Inventory Manager - Retail Chain (3-6 yrs)\n",
              "37861   37861  Business Development Manager - Energy/Power Ma..."
            ]
          },
          "metadata": {
            "tags": []
          },
          "execution_count": 9
        }
      ]
    },
    {
      "cell_type": "markdown",
      "metadata": {
        "id": "VpwcvUknKAVr",
        "colab_type": "text"
      },
      "source": [
        "## Helper Functions for the Matrix Factorization Class"
      ]
    },
    {
      "cell_type": "code",
      "metadata": {
        "scrolled": false,
        "id": "5GYWUp9RnoOf",
        "colab_type": "code",
        "outputId": "32583902-a1a7-46ee-9634-228803b19f86",
        "colab": {
          "base_uri": "https://localhost:8080/",
          "height": 51
        }
      },
      "source": [
        "print((ratings.user_id.nunique()))\n",
        "print(ratings.job_id.nunique())"
      ],
      "execution_count": 0,
      "outputs": [
        {
          "output_type": "stream",
          "text": [
            "137372\n",
            "42640\n"
          ],
          "name": "stdout"
        }
      ]
    },
    {
      "cell_type": "code",
      "metadata": {
        "id": "77e6uC3_noOh",
        "colab_type": "code",
        "colab": {}
      },
      "source": [
        "def build_rating_sparse_tensor(ratings_df):\n",
        "    \"\"\"\n",
        "    Args:\n",
        "    ratings_df: a pd.DataFrame with `user_id`, `movie_id` and `rating` columns.\n",
        "    Returns:\n",
        "    A tf.SparseTensor representing the ratings matrix.\n",
        "    \"\"\"\n",
        "\n",
        "    indices = ratings_df[['user_id','job_id']].values\n",
        "    values = ratings_df['rating'].values\n",
        "\n",
        "    return tf.SparseTensor(\n",
        "      indices=indices,\n",
        "      values=values,\n",
        "      dense_shape=[ratings.user_id.nunique(), ratings.job_id.nunique()])"
      ],
      "execution_count": 0,
      "outputs": []
    },
    {
      "cell_type": "code",
      "metadata": {
        "id": "vMMrxD-KetwF",
        "colab_type": "code",
        "outputId": "26bb7550-af0d-4fc3-dc12-5e8073935e26",
        "colab": {
          "base_uri": "https://localhost:8080/",
          "height": 34
        }
      },
      "source": [
        "tf.__version__"
      ],
      "execution_count": 0,
      "outputs": [
        {
          "output_type": "execute_result",
          "data": {
            "text/plain": [
              "'2.1.0'"
            ]
          },
          "metadata": {
            "tags": []
          },
          "execution_count": 12
        }
      ]
    },
    {
      "cell_type": "markdown",
      "metadata": {
        "id": "CPbg7X5MnoOm",
        "colab_type": "text"
      },
      "source": [
        "### Implementation of the Loss function in TensorFlow\n",
        "\n",
        "Regular Mean Square and its faster implementation for larger data size"
      ]
    },
    {
      "cell_type": "code",
      "metadata": {
        "id": "vRWkMH-BsfhF",
        "colab_type": "code",
        "colab": {}
      },
      "source": [
        "def split_dataframe(df, holdout_fraction=0.1):\n",
        "    \"\"\"Splits a DataFrame into training and test sets.\n",
        "    Args:\n",
        "    df: a dataframe.\n",
        "    holdout_fraction: fraction of dataframe rows to use in the test set.\n",
        "    Returns:\n",
        "    train: dataframe for training\n",
        "    test: dataframe for testing\n",
        "    \"\"\"\n",
        "    test = df.sample(frac=holdout_fraction, replace=False)\n",
        "    train = df[~df.index.isin(test.index)]\n",
        "    return train, test"
      ],
      "execution_count": 0,
      "outputs": []
    },
    {
      "cell_type": "code",
      "metadata": {
        "id": "XGLon7--P1-i",
        "colab_type": "code",
        "colab": {}
      },
      "source": [
        "def sparse_mean_square_error(sparse_ratings, user_embeddings, job_embeddings):\n",
        "    \n",
        "    \"\"\"\n",
        "    Args:\n",
        "    sparse_ratings: A SparseTensor rating matrix, of dense_shape [N, M]\n",
        "    user_embeddings: A dense Tensor U of shape [N, k] where k is the embedding\n",
        "      dimension, such that U_i is the embedding of user i.\n",
        "    job_embeddings: A dense Tensor V of shape [M, k] where k is the embedding\n",
        "      dimension, such that V_j is the embedding of job j.\n",
        "    Returns:\n",
        "    A scalar Tensor representing the MSE between the true ratings and the\n",
        "      model's predictions.\n",
        "    \"\"\"\n",
        "    \n",
        "    u_ = tf.gather(user_embeddings, sparse_ratings.indices[:, 0])\n",
        "    v_ = tf.gather(job_embeddings, sparse_ratings.indices[:, 1])\n",
        "    \n",
        "    predictions = tf.reduce_sum(u_*v_ ,axis=1)\n",
        "\n",
        "    loss = tf.losses.mean_squared_error(sparse_ratings.values, predictions)\n",
        "    \n",
        "    # loss = tf.keras.losses.MeanSquaredError(sparse_ratings.values, predictions)\n",
        "    \n",
        "    return loss"
      ],
      "execution_count": 0,
      "outputs": []
    },
    {
      "cell_type": "code",
      "metadata": {
        "id": "n-zMiaslnoOm",
        "colab_type": "code",
        "colab": {}
      },
      "source": [
        "def mse_loss(sparse_ratings, user_embeddings, job_embeddings):\n",
        "\n",
        "    u_ = tf.gather(user_embeddings, sparse_ratings.indices[:, 0])\n",
        "    v_ = tf.gather(job_embeddings, sparse_ratings.indices[:, 1])\n",
        "    \n",
        "    predictions = tf.reduce_sum(u_*v_ ,axis=1)\n",
        "\n",
        "    loss = tf.losses.mean_squared_error(sparse_ratings.values, predictions)\n",
        "\n",
        "    return loss\n",
        "\n",
        "# embedding_dim=3\n",
        "# init_stddev=1.\n",
        "\n",
        "# train_ratings, test_ratings = split_dataframe(ratings)\n",
        "\n",
        "# A_train = build_rating_sparse_tensor(train_ratings)\n",
        "# A_test = build_rating_sparse_tensor(test_ratings)\n",
        "\n",
        "# U = tf.Variable(tf.random.normal(\n",
        "#     [A_train.dense_shape[0], embedding_dim], stddev=init_stddev),trainable=True)\n",
        "# V = tf.Variable(tf.random.normal(\n",
        "#     [A_train.dense_shape[1], embedding_dim], stddev=init_stddev),trainable=True)\n",
        "\n",
        "# train_loss = sparse_mean_square_error(A_train, U, V)\n",
        "# test_loss = sparse_mean_square_error(A_test, U, V)\n",
        "\n",
        "\n",
        "# optimizer = tf.keras.optimizers.SGD(learning_rate=20)\n",
        "\n",
        "# for _ in range(100):\n",
        "\n",
        "#     var_list = [U,V]\n",
        "\n",
        "#     with tf.GradientTape() as tape:\n",
        "#         train_error = mse_loss(A_train, U, V)\n",
        "#         test_error = mse_loss(A_test, U, V)\n",
        "\n",
        "#     print('Test Error = {:.2f}, Train Error = {:.2f}'.format(test_error.numpy(), train_error.numpy()))\n",
        "\n",
        "#     grads = tape.gradient(train_error,var_list)\n",
        "#     processed_gradients = [g for g in grads]\n",
        "\n",
        "#     zipped_vars = zip(processed_gradients,var_list)\n",
        "\n",
        "#     # print('grads0 = {:.1f}, grads1 = {:.1f} '.format( grads[0].numpy(), grads[1].numpy()))\n",
        "#     # print(grads[0])\n",
        "#     optimizer.apply_gradients(zipped_vars)\n"
      ],
      "execution_count": 0,
      "outputs": []
    },
    {
      "cell_type": "code",
      "metadata": {
        "id": "9voly33NnMSt",
        "colab_type": "code",
        "colab": {}
      },
      "source": [
        "class MFModel(object):\n",
        "\n",
        "    def __init__(self, ratings_df, learning_rate=20., gravity_coeff=1., \n",
        "                 init_stddev=1., embedding_dim=3, regularization_coeff=0.1, num_iterations=100, metrics=None, optimizer='sgd'):\n",
        "        \n",
        "        self.U = None\n",
        "        self.V = None\n",
        "        self.ratings_df = ratings_df\n",
        "        self.init_stddev = init_stddev\n",
        "        self.learning_rate = learning_rate\n",
        "        self.embedding_dim = embedding_dim\n",
        "        self.gravity_coeff = gravity_coeff\n",
        "        self.regularization_coeff = regularization_coeff \n",
        "        self.num_iterations = num_iterations\n",
        "        self.optimizer = optimizer\n",
        "        self.error_tracker = {'iteration':[], 'test_error':[], 'train_error': []}\n",
        "        \n",
        "    @property\n",
        "    def embeddings(self):\n",
        "\n",
        "        \"\"\"\n",
        "        Returns embeddings for Users and Jobs\n",
        "        \"\"\"\n",
        "        embeddings_dict = {'user_id' : self.U, 'job_id' : self.V}\n",
        "\n",
        "        return embeddings_dict\n",
        "\n",
        "    def optimizer_selection(self, optimizer):\n",
        "\n",
        "        opt_dict = {'sgd' : tf.keras.optimizers.SGD(learning_rate=self.learning_rate),\n",
        "                    'adam' : tf.keras.optimizers.Adam(learning_rate=self.learning_rate),\n",
        "                    'adagrad' : tf.keras.optimizers.Adagrad(learning_rate=self.learning_rate),\n",
        "                    'adadelta' : tf.keras.optimizers.Adadelta(learning_rate=self.learning_rate)}\n",
        "\n",
        "        return opt_dict[optimizer]\n",
        "\n",
        "    def build_rating_sparse_tensor(self):\n",
        "\n",
        "        \"\"\"\n",
        "        Args:\n",
        "        ratings_df: a pd.DataFrame with `user_id`, `movie_id` and `rating` columns.\n",
        "        Returns:\n",
        "        A tf.SparseTensor representing the ratings matrix.\n",
        "        \"\"\"\n",
        "\n",
        "        indices = self.ratings_df[['user_id','job_id']].values\n",
        "        values = self.ratings_df['rating'].values\n",
        "\n",
        "        return tf.SparseTensor(\n",
        "        indices=indices,\n",
        "        values=values,\n",
        "        dense_shape=[self.ratings.user_id.nunique(), self.ratings.job_id.nunique()])\n",
        "\n",
        "    def gravity(self, U, V):\n",
        "\n",
        "        \"\"\"Creates a gravity loss given two embedding matrices.\"\"\"\n",
        "\n",
        "        return 1. / (U.shape[0].value*V.shape[0].value) * tf.reduce_sum(\n",
        "        tf.matmul(U, U, transpose_a=True) * tf.matmul(V, V, transpose_a=True))\n",
        "\n",
        "\n",
        "    def sparse_mean_square_error(self, sparse_ratings, user_embeddings, job_embeddings):\n",
        "    \n",
        "        \"\"\"\n",
        "        Args:\n",
        "        sparse_ratings: A SparseTensor rating matrix, of dense_shape [N, M]\n",
        "        user_embeddings: A dense Tensor U of shape [N, k] where k is the embedding\n",
        "        dimension, such that U_i is the embedding of user i.\n",
        "        job_embeddings: A dense Tensor V of shape [M, k] where k is the embedding\n",
        "        dimension, such that V_j is the embedding of job j.\n",
        "        Returns:\n",
        "        A scalar Tensor representing the MSE between the true ratings and the\n",
        "        model's predictions.\n",
        "        \"\"\"\n",
        "        \n",
        "        u_ = tf.gather(user_embeddings, sparse_ratings.indices[:, 0])\n",
        "        v_ = tf.gather(job_embeddings, sparse_ratings.indices[:, 1])\n",
        "        \n",
        "        predictions = tf.reduce_sum(u_*v_ ,axis=1)\n",
        "        loss = tf.losses.mean_squared_error(sparse_ratings.values, predictions)\n",
        "        \n",
        "        return loss\n",
        "\n",
        "    @tf.function\n",
        "    def train_process(self, train_data, test_data):\n",
        "\n",
        "        optimizer = self.optimizer_selection(self.optimizer)\n",
        "        print('Optimizer : ',self.optimizer,' ')\n",
        "\n",
        "        for i in range(self.num_iterations+1):\n",
        "\n",
        "            var_list = [self.U, self.V]\n",
        "\n",
        "            with tf.GradientTape() as tape:\n",
        "                observed_loss = self.regularized_loss(train_data, self.U, self.V)\n",
        "                test_error = self.sparse_mean_square_error(test_data, self.U, self.V)\n",
        "                train_error = self.sparse_mean_square_error(train_data, self.U, self.V)\n",
        "\n",
        "            grads = tape.gradient(observed_loss ,var_list)\n",
        "            processed_gradients = [g for g in grads]\n",
        "\n",
        "            zipped_vars = zip(processed_gradients,var_list)\n",
        "            optimizer.apply_gradients(zipped_vars)\n",
        "\n",
        "            print('\\r', 'Iteration : ', i, 'Test Error : ', test_error.numpy(), 'Train Error : ', train_error.numpy(), 'Observed Loss', observed_loss.numpy(), ' ', end='')\n",
        "            \n",
        "            self.error_tracker['iteration'].append(i)\n",
        "            self.error_tracker['test_error'].append(test_error.numpy())\n",
        "            self.error_tracker['train_error'].append(train_error.numpy())\n",
        "\n",
        "\n",
        "    def gravity(self, U, V):\n",
        "\n",
        "        \"\"\"Creates a gravity loss given two embedding matrices.\"\"\"\n",
        "\n",
        "        return 1. / (U.shape[0]*V.shape[0]) * tf.reduce_sum(\n",
        "        tf.matmul(U, U, transpose_a=True) * tf.matmul(V, V, transpose_a=True))\n",
        "\n",
        "    def regularized_loss(self, sparse_ratings, user_embeddings, job_embeddings):\n",
        "\n",
        "        A_train = sparse_ratings\n",
        "        U = user_embeddings\n",
        "        V = job_embeddings\n",
        "\n",
        "        error_train = self.sparse_mean_square_error(A_train, U, V)\n",
        "        gravity_loss = self.gravity_coeff*self.gravity(U, V)\n",
        "        \n",
        "        regularization_loss = self.regularization_coeff * (\n",
        "            tf.reduce_sum(U*U)/U.shape[0] + tf.reduce_sum(V*V)/V.shape[0])\n",
        "\n",
        "        total_loss = error_train + regularization_loss + gravity_loss\n",
        "\n",
        "        return total_loss\n",
        "\n",
        "\n",
        "    def split_dataframe(self, df, holdout_fraction=0.1):\n",
        "        \"\"\"Splits a DataFrame into training and test sets.\n",
        "        Args:\n",
        "        df: a dataframe.\n",
        "        holdout_fraction: fraction of dataframe rows to use in the test set.\n",
        "        Returns:\n",
        "        train: dataframe for training\n",
        "        test: dataframe for testing\n",
        "        \"\"\"\n",
        "        test = df.sample(frac=holdout_fraction, replace=False)\n",
        "        train = df[~df.index.isin(test.index)]\n",
        "        return train, test\n",
        "        \n",
        "    def train(self):\n",
        "\n",
        "        train_ratings, test_ratings = split_dataframe(self.ratings_df)\n",
        "\n",
        "        A_train = build_rating_sparse_tensor(train_ratings)\n",
        "        A_test = build_rating_sparse_tensor(test_ratings)\n",
        "\n",
        "        # A_train, A_test = self.split_dataframe()\n",
        "        \n",
        "        self.U = tf.Variable(tf.random.normal(\n",
        "      [A_train.dense_shape[0], self.embedding_dim], stddev=self.init_stddev))\n",
        "       \n",
        "        self.V = tf.Variable(tf.random.normal(\n",
        "        [A_train.dense_shape[1], self.embedding_dim], stddev=self.init_stddev))\n",
        "        \n",
        "        self.train_process(A_train, A_test)\n",
        "\n",
        "    def plot_error(self):\n",
        "\n",
        "        error_df = pd.DataFrame(self.error_tracker)\n",
        "        plt.plot(error_df['iteration'], error_df['test_error'])\n",
        "        plt.show()\n",
        "\n",
        "    def get_error_dict(self):\n",
        "\n",
        "        return self.error_tracker"
      ],
      "execution_count": 0,
      "outputs": []
    },
    {
      "cell_type": "code",
      "metadata": {
        "id": "IWPGP1LSTtMg",
        "colab_type": "code",
        "outputId": "b11bdc8e-b9de-47c2-abe7-67696f457197",
        "colab": {
          "base_uri": "https://localhost:8080/",
          "height": 51
        }
      },
      "source": [
        "model = MFModel(ratings_df=ratings, num_iterations=10000, embedding_dim=5, optimizer='adagrad')\n",
        "model.train()"
      ],
      "execution_count": 0,
      "outputs": [
        {
          "output_type": "stream",
          "text": [
            "Optimizer :  adagrad  \n",
            " Iteration :  10000 Test Error :  0.3374283 Train Error :  0.27557376 Observed Loss 0.5496093  "
          ],
          "name": "stdout"
        }
      ]
    },
    {
      "cell_type": "code",
      "metadata": {
        "id": "pKvQXb0Rxotl",
        "colab_type": "code",
        "outputId": "0cb331e1-5307-4def-caf5-2abc10ba6921",
        "colab": {
          "base_uri": "https://localhost:8080/",
          "height": 265
        }
      },
      "source": [
        "model.plot_error()"
      ],
      "execution_count": 0,
      "outputs": [
        {
          "output_type": "display_data",
          "data": {
            "image/png": "[encoded data removed]",
            "text/plain": [
              "<Figure size 432x288 with 1 Axes>"
            ]
          },
          "metadata": {
            "tags": []
          }
        }
      ]
    },
    {
      "cell_type": "code",
      "metadata": {
        "id": "aeF_ggxse8Us",
        "colab_type": "code",
        "colab": {}
      },
      "source": [
        ""
      ],
      "execution_count": 0,
      "outputs": []
    },
    {
      "cell_type": "code",
      "metadata": {
        "id": "STy4305vKqcO",
        "colab_type": "code",
        "colab": {}
      },
      "source": [
        "results = {}\n",
        "\n",
        "params = {'embedding_dim':[25,30,35,40,50], 'learn_rate':[0.1,5,10,15]}\n",
        "\n",
        "for k,v in params.items():\n",
        "\n",
        "    if k=='embedding_dim':\n",
        "\n",
        "        adadelta_results[k] = {}\n",
        "\n",
        "        for dim in params[k]:\n",
        "            model = MFModel(ratings_df=ratings, num_iterations=2000,embedding_dim=dim,optimizer='adadelta')\n",
        "            model.train()\n",
        "            error_dict = model.get_error_dict()\n",
        "            \n",
        "            adadelta_results[k][dim] = np.min(error_dict['test_error'])\n",
        "\n",
        "    else:\n",
        "        continue\n"
      ],
      "execution_count": 0,
      "outputs": []
    },
    {
      "cell_type": "code",
      "metadata": {
        "id": "E_rpXcIbxrAs",
        "colab_type": "code",
        "colab": {}
      },
      "source": [
        ""
      ],
      "execution_count": 0,
      "outputs": []
    }
  ]
}